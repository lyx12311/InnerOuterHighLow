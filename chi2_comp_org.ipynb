{
 "cells": [
  {
   "cell_type": "markdown",
   "metadata": {},
   "source": [
    "# Notebook containing the scripts to compare, quantitatively, the mean (corrected) abundances for stellar populations. To do so, we will sample the errors in the measurements and then take the mean and standard error value of every abundance for each sample at a small bin in Fe/H"
   ]
  },
  {
   "cell_type": "code",
   "execution_count": 1,
   "metadata": {},
   "outputs": [],
   "source": [
    "# import the necessary modules\n",
    "import numpy as np\n",
    "from astropy.io import fits\n",
    "import tqdm\n",
    "import matplotlib.pyplot as plt\n",
    "from matplotlib import rc\n",
    "rc('font',**{'family':'serif','serif':['Times']})\n",
    "rc('text', usetex=True)\n",
    "import warnings\n",
    "warnings.filterwarnings('ignore')"
   ]
  },
  {
   "cell_type": "code",
   "execution_count": 2,
   "metadata": {},
   "outputs": [],
   "source": [
    "# load the data\n",
    "path = '/Users/dhortadarrington/Documents/Master/data/DR17_McMillan_astroNN.fits'\n",
    "tb = fits.open(path)\n",
    "data = tb[1].data "
   ]
  },
  {
   "cell_type": "code",
   "execution_count": 3,
   "metadata": {},
   "outputs": [],
   "source": [
    "fehs = data.field('FE_H')\n",
    "mgfe = data.field('MG_FE')\n",
    "alfe = data.field('AL_FE')\n",
    "kfe = data.field('K_FE')\n",
    "alfe_err = data.field('AL_FE_ERR')\n",
    "nafe = data.field('NA_FE')\n",
    "fehs_err = data.field('FE_H_ERR')\n",
    "nife = data.field('NI_FE')\n",
    "cfe = data.field('C_FE')\n",
    "nfe = data.field('N_FE')\n",
    "sfe = data.field('S_FE')\n",
    "cefe = data.field('CE_FE')\n",
    "tife = data.field('TI_FE')\n",
    "sife = data.field('SI_FE')\n",
    "kfe = data.field('K_FE')\n",
    "ofe = data.field('O_FE')\n",
    "pfe = data.field('P_FE')\n",
    "cafe = data.field('CA_FE')\n",
    "mnfe = data.field('MN_FE')\n",
    "cife = data.field('CI_FE')\n",
    "cofe = data.field('CO_FE')\n",
    "crfe = data.field('CR_FE')\n",
    "vfe = data.field('V_FE')\n",
    "cufe = data.field('CU_FE')\n",
    "tife = data.field('TI_FE')\n",
    "apo_id = data.field('APOGEE_ID')\n",
    "logg = data.field('LOGG')\n",
    "teff = data.field('TEFF')\n",
    "fehs_err = data.field('FE_H_ERR')\n",
    "mgfe_err = data.field('MG_FE_ERR')\n"
   ]
  },
  {
   "cell_type": "code",
   "execution_count": 4,
   "metadata": {},
   "outputs": [
    {
     "name": "stdout",
     "output_type": "stream",
     "text": [
      "199030\n"
     ]
    }
   ],
   "source": [
    "loadpath =  '/Users/dhortadarrington/Documents/Projects/accreted-systems/sav/paper/'\n",
    "\n",
    "mask_ges = np.load(loadpath+'mask_ges.npy')\n",
    "mask_higha_disc_solar = np.load(loadpath+'mask_higha_disc_solar.npy')\n",
    "\n",
    "mask = np.load(loadpath+'mask_parentsamp.npy')\n",
    "acc_mask = np.load(loadpath+'mask_accsamp.npy')\n",
    "\n",
    "print(len(data[mask]))"
   ]
  },
  {
   "cell_type": "markdown",
   "metadata": {},
   "source": [
    "# Load in the corrected abundances"
   ]
  },
  {
   "cell_type": "code",
   "execution_count": 5,
   "metadata": {},
   "outputs": [],
   "source": [
    "loadpath =  '/Users/dhortadarrington/Documents/Projects/accreted-systems/sav/paper/abundance_corrections/'\n",
    "abun_parent = np.load(loadpath+'corrected_4loggsystematic_xfes_parent.npy', allow_pickle=True)\n",
    "abun_err_parent = np.load(loadpath+'corrected_4loggsystematic_xfes_err_parent.npy', allow_pickle=True)\n",
    "abun_lowa_aleph = np.load(loadpath+'corrected_4loggsystematic_xfes_lowa_aleph.npy', allow_pickle=True)\n",
    "parent_ordered_ids = np.load(loadpath+'ordered_ascorrected_abun_apoids_parent.npy', allow_pickle=True)\n",
    "parent_ordered_fehs = np.load(loadpath+'corrected_4loggsystematic_fehs_parent.npy', allow_pickle=True)\n",
    "parent_ordered_fehs_err = np.load(loadpath+'corrected_4loggsystematic_fehs_err_parent.npy', allow_pickle=True)\n"
   ]
  },
  {
   "cell_type": "code",
   "execution_count": 6,
   "metadata": {},
   "outputs": [],
   "source": [
    "def get_sample_abun(abun_ordered_id_array, apo_id, mask_sample, corr_abun, corr_fehs):\n",
    "    '''\n",
    "    abun_ordered_id_array = array containing the ids of the corrected abundances in the same order as logg (this sample is limited to 1 < logg < 2)\n",
    "    apo_id = parent APOGEE_ID array from the allStar file\n",
    "    mask_sample = mask of the substructure or sample wanting to get the corrected abundances for\n",
    "    corr_abun = corrected abundances determined by correcting for systematics with logg. Abundances are as follows = [abundances_list = ['[C/Fe]','[N/Fe]','[O/Fe]','[Na/Fe]','[Mg/Fe]','[Al/Fe]','[Si/Fe]','[S/Fe]','[K/Fe]',\\\n",
    "               '[Ca/Fe]','[Ti/Fe]','[V/Fe]','[Cr/Fe]','[Mn/Fe]','[Fe/H]','[Co/Fe]','[Ni/Fe]','[Ce/Fe]'] \n",
    "    corr_fehs = fehs corresponding to the corrected abundances\n",
    "    '''\n",
    "    \n",
    "    corrected_abun_sample = []\n",
    "    corrected_fehs_sample = []\n",
    "    \n",
    "    for indx, i in enumerate(abun_ordered_id_array):\n",
    "        mask_abun_sample = np.isin(list(i),list(apo_id[mask_sample]))\n",
    "        corrected_abun_sample.append(corr_abun[indx][mask_abun_sample])\n",
    "        corrected_fehs_sample.append(corr_fehs[indx][mask_abun_sample])\n",
    "        \n",
    "    return corrected_abun_sample, corrected_fehs_sample\n"
   ]
  },
  {
   "cell_type": "code",
   "execution_count": 7,
   "metadata": {},
   "outputs": [],
   "source": [
    "corrected_abun_ges,corrected_fehs_ges = get_sample_abun(parent_ordered_ids, apo_id, mask_ges,abun_parent, parent_ordered_fehs)\n",
    "corrected_abun_higha_solar,corrected_fehs_higha_solar = get_sample_abun(parent_ordered_ids, apo_id, mask_higha_disc_solar,abun_parent, parent_ordered_fehs)\n"
   ]
  },
  {
   "cell_type": "code",
   "execution_count": 8,
   "metadata": {},
   "outputs": [],
   "source": [
    "corrected_abun_err_ges,corrected_fehs_err_ges = get_sample_abun(parent_ordered_ids, apo_id, mask_ges,abun_err_parent, parent_ordered_fehs_err)\n",
    "corrected_abun_err_higha_solar,corrected_fehs_err_higha_solar = get_sample_abun(parent_ordered_ids, apo_id, mask_higha_disc_solar,abun_err_parent, parent_ordered_fehs_err)\n"
   ]
  },
  {
   "cell_type": "markdown",
   "metadata": {},
   "source": [
    "Corrected abundances are saved as:\n",
    "\n",
    "['[C/Fe]'(0),'[N/Fe]'(1),'[O/Fe]'(2),'[Na/Fe]'(3),'[Mg/Fe]'(4),'[Al/Fe]'(5),'[Si/Fe]'(6),'[S/Fe]'(7),'[K/Fe]'(8),\\\n",
    "'[Ca/Fe]'(9),'[Ti/Fe]'(10),'[V/Fe]'(11),'[Cr/Fe]'(12),'[Mn/Fe]'(13),'[Fe/H]'(14),'[Co/Fe]'(15),'[Ni/Fe]'(16),'[Ce/Fe]'(17)] \n"
   ]
  },
  {
   "cell_type": "code",
   "execution_count": 9,
   "metadata": {},
   "outputs": [],
   "source": [
    "from astropy.stats import bootstrap\n",
    "\n",
    "def samples(abun, abun_err, xs, xs_err,n,fehs_val,delta_feh):\n",
    "    \n",
    "    samples_abun = np.zeros((len(abun),n))\n",
    "    samples_xs = np.zeros((len(abun),n))\n",
    "    samples_median = np.zeros((n))\n",
    "    n_samples = len(abun)\n",
    "    \n",
    "    # create the bootstrap samples  \n",
    "    # in order to sample the distribution using bootstrap with resampling and to get the correct\n",
    "    # information for every star picked, we need to sample an id array, and use that to pick out the sampled stars\n",
    "    # otherwise you get incorrect fehs for every abundance\n",
    "    random_ids = np.arange(len(abun))\n",
    "    samples_indices = bootstrap(random_ids, n).astype(int)\n",
    "            \n",
    "    for indx3, k in enumerate(samples_indices):\n",
    "        # find the stars with the correct id\n",
    "        mask_feh = (xs[k] < delta_feh+fehs_val)&(xs[k] > fehs_val-delta_feh)\n",
    "        samples_median[indx3] = np.nanmedian(abun[k][mask_feh])\n",
    "    return samples_median\n",
    "\n",
    "def find_mean_scatter_norm(abundances, abundances_err,xs,xs_err,fehs_val = -1,delta_feh=0.05,n=1000):\n",
    "\n",
    "\n",
    "    abundances_list = ['[O/Fe]','[Mg/Fe]','[Si/Fe]','[S/Fe]','[Ca/Fe]','[Ti/Fe]','[C/Fe]',\\\n",
    "                       '[N/Fe]','[Al/Fe]','[K/Fe]','[Mn/Fe]','[Ni/Fe]','[Ce/Fe]']\n",
    "    \n",
    "    xfe_mean = np.zeros((len(abundances)))\n",
    "    xfe_scatter = np.zeros((len(abundances)))\n",
    "    xfe_meanerr = np.zeros((len(abundances)))\n",
    "    samples_median = np.zeros((len(abundances),n))\n",
    "    for indx, i in tqdm.tqdm_notebook(enumerate(abundances)):\n",
    "        # make sure you are comparing stars with same logg (already did this when correcting systematics)\n",
    "        # abundances compared here are between 1 < logg < 2        \n",
    "        abun = i # abundances in the sample\n",
    "        xs2 = xs[indx] # feh values in the sample\n",
    "        abun_err = abundances_err[indx] # errors in the abundances in the sample\n",
    "        xs2_err = xs_err[indx] # errors in the feh values in the sample\n",
    "\n",
    "        # draw N samples for every x and y point, fit a line to every N distribution of the x, y plane, and get\n",
    "        # the mean and sigma values of your slope and intercept\n",
    "        samples_median_raw = samples(abun, abun_err, xs2, xs2_err,n,fehs_val,delta_feh)\n",
    "        samples_median[indx] = samples_median_raw\n",
    "        # determine the mean value of the abundances calculated by taking the mean value of the 1,000 medians\n",
    "        # also calculate the sigma by taking the standard deviation of the 1,000 medians\n",
    "        xfe_mean[indx] = np.nanmean(samples_median_raw)\n",
    "        xfe_scatter[indx] = np.nanstd(samples_median_raw)\n",
    "        xfe_meanerr[indx] = np.nanstd(samples_median_raw)/np.sqrt(len(samples_median_raw))\n",
    "    return xfe_mean,xfe_scatter,xfe_meanerr\n"
   ]
  },
  {
   "cell_type": "code",
   "execution_count": 10,
   "metadata": {},
   "outputs": [
    {
     "data": {
      "application/vnd.jupyter.widget-view+json": {
       "model_id": "ec5b4943bf3542b0adada012c6ae7b93",
       "version_major": 2,
       "version_minor": 0
      },
      "text/plain": [
       "0it [00:00, ?it/s]"
      ]
     },
     "metadata": {},
     "output_type": "display_data"
    }
   ],
   "source": [
    "# Corrected abundances are saved as:\n",
    "# ['[C/Fe]'(0),'[N/Fe]'(1),'[O/Fe]'(2),'[Na/Fe]'(3),'[Mg/Fe]'(4),'[Al/Fe]'(5),'[Si/Fe]'(6),'[S/Fe]'(7),'[K/Fe]'(8),\\\n",
    "# '[Ca/Fe]'(9),'[Ti/Fe]'(10),'[V/Fe]'(11),'[Cr/Fe]'(12),'[Mn/Fe]'(13),'[Fe/H]'(14),'[Co/Fe]'(15),'[Ni/Fe]'(16),'[Ce/Fe](17)'] \n",
    "\n",
    "abun_ges = np.array((corrected_abun_ges[2],corrected_abun_ges[4],corrected_abun_ges[6],corrected_abun_ges[7],\\\n",
    "                    corrected_abun_ges[9],corrected_abun_ges[10],corrected_abun_ges[0],corrected_abun_ges[1],\\\n",
    "                    corrected_abun_ges[5],corrected_abun_ges[8],corrected_abun_ges[13],corrected_abun_ges[16],\\\n",
    "                    corrected_abun_ges[17]))\n",
    "abun_ges_err = np.array((corrected_abun_err_ges[2],corrected_abun_err_ges[4],corrected_abun_err_ges[6],corrected_abun_err_ges[7],\\\n",
    "                    corrected_abun_err_ges[9],corrected_abun_err_ges[10],corrected_abun_err_ges[0],corrected_abun_err_ges[1],\\\n",
    "                    corrected_abun_err_ges[5],corrected_abun_err_ges[8],corrected_abun_err_ges[13],corrected_abun_err_ges[16],\\\n",
    "                    corrected_abun_err_ges[17]))\n",
    "fehs_ges = np.array((corrected_fehs_ges[2],corrected_fehs_ges[4],corrected_fehs_ges[6],corrected_fehs_ges[7],\\\n",
    "                    corrected_fehs_ges[9],corrected_fehs_ges[10],corrected_fehs_ges[0],corrected_fehs_ges[1],\\\n",
    "                    corrected_fehs_ges[5],corrected_fehs_ges[8],corrected_fehs_ges[13],corrected_fehs_ges[16],\\\n",
    "                    corrected_fehs_ges[17]))\n",
    "fehs_err_ges = np.array((corrected_fehs_err_ges[2],corrected_fehs_err_ges[4],corrected_fehs_err_ges[6],corrected_fehs_err_ges[7],\\\n",
    "                    corrected_fehs_err_ges[9],corrected_fehs_err_ges[10],corrected_fehs_err_ges[0],corrected_fehs_err_ges[1],\\\n",
    "                    corrected_fehs_err_ges[5],corrected_fehs_err_ges[8],corrected_fehs_err_ges[13],corrected_fehs_err_ges[16],\\\n",
    "                    corrected_fehs_err_ges[17]))\n",
    "\n",
    "xfe_mean_ges ,xfe_scatter_ges ,xfe_meanerr_ges = find_mean_scatter_norm(abun_ges,abun_ges_err,fehs_ges,fehs_err_ges, fehs_val = -0.9 )\n"
   ]
  },
  {
   "cell_type": "code",
   "execution_count": 11,
   "metadata": {},
   "outputs": [
    {
     "data": {
      "application/vnd.jupyter.widget-view+json": {
       "model_id": "37105f76a7d6467dba7842fb1b9d4bcc",
       "version_major": 2,
       "version_minor": 0
      },
      "text/plain": [
       "0it [00:00, ?it/s]"
      ]
     },
     "metadata": {},
     "output_type": "display_data"
    }
   ],
   "source": [
    "abun_higha_solar = np.array((corrected_abun_higha_solar[2],corrected_abun_higha_solar[4],corrected_abun_higha_solar[6],corrected_abun_higha_solar[7],\\\n",
    "                    corrected_abun_higha_solar[9],corrected_abun_higha_solar[10],corrected_abun_higha_solar[0],corrected_abun_higha_solar[1],\\\n",
    "                    corrected_abun_higha_solar[5],corrected_abun_higha_solar[8],corrected_abun_higha_solar[13],corrected_abun_higha_solar[16],\\\n",
    "                    corrected_abun_higha_solar[17]))\n",
    "abun_higha_solar_err = np.array((corrected_abun_err_higha_solar[2],corrected_abun_err_higha_solar[4],corrected_abun_err_higha_solar[6],corrected_abun_err_higha_solar[7],\\\n",
    "                    corrected_abun_err_higha_solar[9],corrected_abun_err_higha_solar[10],corrected_abun_err_higha_solar[0],corrected_abun_err_higha_solar[1],\\\n",
    "                    corrected_abun_err_higha_solar[5],corrected_abun_err_higha_solar[8],corrected_abun_err_higha_solar[13],corrected_abun_err_higha_solar[16],\\\n",
    "                    corrected_abun_err_higha_solar[17]))\n",
    "fehs_higha_solar = np.array((corrected_fehs_higha_solar[2],corrected_fehs_higha_solar[4],corrected_fehs_higha_solar[6],corrected_fehs_higha_solar[7],\\\n",
    "                    corrected_fehs_higha_solar[9],corrected_fehs_higha_solar[10],corrected_fehs_higha_solar[0],corrected_fehs_higha_solar[1],\\\n",
    "                    corrected_fehs_higha_solar[5],corrected_fehs_higha_solar[8],corrected_fehs_higha_solar[13],corrected_fehs_higha_solar[16],\\\n",
    "                    corrected_fehs_higha_solar[17]))\n",
    "fehs_err_higha_solar = np.array((corrected_fehs_err_higha_solar[2],corrected_fehs_err_higha_solar[4],corrected_fehs_err_higha_solar[6],corrected_fehs_err_higha_solar[7],\\\n",
    "                    corrected_fehs_err_higha_solar[9],corrected_fehs_err_higha_solar[10],corrected_fehs_err_higha_solar[0],corrected_fehs_err_higha_solar[1],\\\n",
    "                    corrected_fehs_err_higha_solar[5],corrected_fehs_err_higha_solar[8],corrected_fehs_err_higha_solar[13],corrected_fehs_err_higha_solar[16],\\\n",
    "                    corrected_fehs_err_higha_solar[17]))\n",
    "\n",
    "xfe_mean_higha_solar ,xfe_scatter_higha_solar ,xfe_meanerr_higha_solar = find_mean_scatter_norm(abun_higha_solar,abun_higha_solar_err,fehs_higha_solar,fehs_err_higha_solar, fehs_val = -0.9 )\n"
   ]
  },
  {
   "cell_type": "code",
   "execution_count": 14,
   "metadata": {},
   "outputs": [],
   "source": [
    "from scipy import stats\n",
    "\n",
    "abundances_list = ['[O/Fe]','[Mg/Fe]','[Si/Fe]','[S/Fe]','[Ca/Fe]','[Ti/Fe]','[C/Fe]','[N/Fe]','[Al/Fe]','[K/Fe]',\\\n",
    "                   '[Mn/Fe]','[Ni/Fe]','[Ce/Fe]']\n",
    "                   "
   ]
  },
  {
   "cell_type": "code",
   "execution_count": 13,
   "metadata": {},
   "outputs": [],
   "source": [
    "def get_chi2(observed_mean,predicted_mean, observed_error, predicted_error):\n",
    "    from scipy import stats\n",
    "    \n",
    "    result = np.zeros((len(observed_mean)))\n",
    "    for indx, i in enumerate(observed_mean):\n",
    "        result[indx] = ((i-predicted_mean[indx])**2)/(observed_error[indx]**2+predicted_error[indx]**2)\n",
    "    chi2 = np.sum((result))\n",
    "    return chi2\n",
    "\n",
    "def get_diff(observed_mean,predicted_mean):\n",
    "    result = np.zeros((len(observed_mean)))\n",
    "    for indx, i in enumerate(observed_mean):\n",
    "        result[indx] = ((i-predicted_mean[indx])**2)\n",
    "    diff = np.sum((result))\n",
    "    return diff"
   ]
  },
  {
   "cell_type": "code",
   "execution_count": 15,
   "metadata": {},
   "outputs": [
    {
     "data": {
      "text/plain": [
       "Text(11.4, -0.5, '$s$-process')"
      ]
     },
     "execution_count": 15,
     "metadata": {},
     "output_type": "execute_result"
    },
    {
     "data": {
      "image/png": "[encoded data removed]",
      "text/plain": [
       "<Figure size 1440x360 with 1 Axes>"
      ]
     },
     "metadata": {
      "needs_background": "light"
     },
     "output_type": "display_data"
    }
   ],
   "source": [
    "\n",
    "plt.figure(figsize=(20,5))\n",
    "chi2 = get_chi2(xfe_mean_ges, xfe_mean_higha_solar, xfe_scatter_ges, xfe_scatter_higha_solar)\n",
    "diff = get_diff(xfe_mean_ges, xfe_mean_higha_solar)\n",
    "pvalue = 1 - stats.chi2.cdf(chi2, 12)\n",
    "\n",
    "err_highadisc_ges = np.sqrt(xfe_scatter_ges**2+xfe_scatter_higha_solar**2)\n",
    "diff_highadisc_ges = xfe_mean_higha_solar-xfe_mean_ges\n",
    "\n",
    "plt.fill_between(abundances_list, diff_highadisc_ges+err_highadisc_ges,diff_highadisc_ges-err_highadisc_ges,alpha=0.3,color='b' )\n",
    "plt.errorbar(abundances_list,diff_highadisc_ges,yerr= err_highadisc_ges,fmt='o--',markersize=10, color='b',ecolor='b',\\\n",
    "             elinewidth=1, capsize=5)\n",
    "plt.scatter(abundances_list,diff_highadisc_ges,c='b',s=100,label=r'High-$\\alpha$ disc $-$ GES')\n",
    "plt.hlines(0,12,0,ls='dashed',color='k')\n",
    "plt.legend(loc='upper center',frameon=False,ncol=2,fontsize=20)\n",
    "plt.tick_params(labelsize=20,direction='in',top=True,right=True,length=6)\n",
    "plt.ylim(-0.7,0.7)\n",
    "plt.xticks(rotation=45)\n",
    "plt.ylabel(r'$\\Delta$ [X/Fe]', fontsize=20)\n",
    "plt.text(0,0.45,r'$\\chi^{2}$ = '+str(\"{:.2f}\".format(chi2)), fontsize=20)\n",
    "plt.text(1.5,0.45,r'$p_{\\chi^{2}}$ = '+str(\"{:.2f}\".format(pvalue)), fontsize=20)\n",
    "plt.text(3,0.45,r'$\\Sigma$$\\Delta_{\\mathrm{[X/Fe]}}$ = '+str(\"{:.2f}\".format(diff)), fontsize=20)\n",
    "plt.text(10,0.45,r'[Fe/H]$_{\\mathrm{comp}}$ = $-$0.9', fontsize=20)\n",
    "\n",
    "plt.plot(abundances_list[:6], np.array([-0.6,-0.6,-0.6,-0.6,-0.6,-0.6]), c='dodgerblue',lw=3)\n",
    "plt.plot(abundances_list[6:10], np.array([-0.6,-0.6,-0.6,-0.6]), c='r',lw=3)\n",
    "plt.plot(abundances_list[10:12], np.array([-0.6,-0.6]), c='lime',lw=3)\n",
    "plt.plot(np.array([11.8,12.2]), np.array([-0.6,-0.6]), c='orchid',lw=3)\n",
    "plt.text(2.5,-0.5,r'$\\alpha$',color='dodgerblue',fontsize=25)\n",
    "plt.text(6.75,-0.5,r'light+odd-Z',color='r',fontsize=25)\n",
    "plt.text(10.,-0.5,r'Fe-peak',color='lime',fontsize=25)\n",
    "plt.text(11.4,-0.5,r'$s$-process',color='orchid',fontsize=25)"
   ]
  },
  {
   "cell_type": "code",
   "execution_count": null,
   "metadata": {},
   "outputs": [],
   "source": []
  }
 ],
 "metadata": {
  "kernelspec": {
   "display_name": "Python 3",
   "language": "python",
   "name": "python3"
  },
  "language_info": {
   "codemirror_mode": {
    "name": "ipython",
    "version": 3
   },
   "file_extension": ".py",
   "mimetype": "text/x-python",
   "name": "python",
   "nbconvert_exporter": "python",
   "pygments_lexer": "ipython3",
   "version": "3.8.5"
  }
 },
 "nbformat": 4,
 "nbformat_minor": 5
}
